{
 "cells": [
  {
   "cell_type": "code",
   "execution_count": 4,
   "id": "a57e6f8c-228d-41b2-aea8-bdad2debb447",
   "metadata": {},
   "outputs": [
    {
     "name": "stdin",
     "output_type": "stream",
     "text": [
      " 1 2 3\n"
     ]
    },
    {
     "name": "stdout",
     "output_type": "stream",
     "text": [
      "[1, 2, 3]\n"
     ]
    }
   ],
   "source": [
    "a = [int(i) for i in input().split()]\n",
    "print(a)\n"
   ]
  },
  {
   "cell_type": "code",
   "execution_count": 10,
   "id": "5c25bedb-0744-47aa-9f85-09193b3a32bb",
   "metadata": {},
   "outputs": [
    {
     "name": "stdin",
     "output_type": "stream",
     "text": [
      " 123\n"
     ]
    },
    {
     "name": "stdout",
     "output_type": "stream",
     "text": [
      "6\n",
      "6\n"
     ]
    }
   ],
   "source": [
    "a = int(input())\n",
    "b = str(a)\n",
    "print(a//100 + a%10 + (a//10)%10)\n",
    "print(int(b[0]) + int(b[1]) + int(b[2]))\n"
   ]
  },
  {
   "cell_type": "code",
   "execution_count": 14,
   "id": "fd3f4cdb-35a8-45c9-b47d-640f39408629",
   "metadata": {},
   "outputs": [
    {
     "name": "stdout",
     "output_type": "stream",
     "text": [
      "abc\n"
     ]
    }
   ],
   "source": [
    "a = \"_abc\"\n",
    "print(a.split('_')[1])"
   ]
  },
  {
   "cell_type": "code",
   "execution_count": 15,
   "id": "e8d58e33-60db-400f-9a62-488f98ad2014",
   "metadata": {},
   "outputs": [
    {
     "name": "stdout",
     "output_type": "stream",
     "text": [
      "[2, 2]\n",
      "[1, 2]\n",
      "[2, 2]\n"
     ]
    }
   ],
   "source": [
    "a = [1, 2]\n",
    "b = a[:]\n",
    "c = a\n",
    "a[0] = 2\n",
    "print(a)\n",
    "print(b)\n",
    "print(c)"
   ]
  }
 ],
 "metadata": {
  "kernelspec": {
   "display_name": "Python 3 (ipykernel)",
   "language": "python",
   "name": "python3"
  },
  "language_info": {
   "codemirror_mode": {
    "name": "ipython",
    "version": 3
   },
   "file_extension": ".py",
   "mimetype": "text/x-python",
   "name": "python",
   "nbconvert_exporter": "python",
   "pygments_lexer": "ipython3",
   "version": "3.9.13"
  }
 },
 "nbformat": 4,
 "nbformat_minor": 5
}
