{
 "cells": [
  {
   "cell_type": "code",
   "execution_count": 21,
   "id": "02719329-5d68-49b5-a93e-24ad4e1b419a",
   "metadata": {},
   "outputs": [
    {
     "name": "stdout",
     "output_type": "stream",
     "text": [
      "hello world\n"
     ]
    }
   ],
   "source": [
    "a = 'he32l4lo w0or1ld'\n",
    "b = \"\"\n",
    "for i in a:\n",
    "    if i.isdigit() == False:\n",
    "        b += i\n",
    "print(b)"
   ]
  },
  {
   "cell_type": "code",
   "execution_count": 22,
   "id": "729c05dd-b521-41d7-870c-5e0aecbec71d",
   "metadata": {},
   "outputs": [
    {
     "name": "stdin",
     "output_type": "stream",
     "text": [
      "is it a prime number? y/n: n\n",
      "is it a odd number? y/n: y\n"
     ]
    },
    {
     "name": "stdout",
     "output_type": "stream",
     "text": [
      "it's a 1\n"
     ]
    }
   ],
   "source": [
    "a = input(\"is it a prime number? y/n:\")\n",
    "if a == 'n':\n",
    "    b = input(\"is it a odd number? y/n:\")\n",
    "    if b == 'y':\n",
    "        print(\"it's a 1\")\n",
    "    else: print(\"it's a 4\")\n",
    "else:\n",
    "    b = input(\"is it a even numb? y/n:\")\n",
    "    if b == 'y':\n",
    "        print(\"it's a 2\")\n",
    "    else: \n",
    "        c = input(\"is it a top podium number? y/n:\")\n",
    "        if c == 'y':\n",
    "            print(\"it's a 3\")\n",
    "        else: print(\"it's a 5\")\n",
    "    \n",
    "    \n"
   ]
  },
  {
   "cell_type": "code",
   "execution_count": 4,
   "id": "4f2c851d-daaf-41ef-bc07-082672d92083",
   "metadata": {},
   "outputs": [
    {
     "name": "stdout",
     "output_type": "stream",
     "text": [
      "3 3\n",
      "3 3\n"
     ]
    }
   ],
   "source": [
    "a = 453289\n",
    "s = str(a)\n",
    "e = o = 0\n",
    "for i in s:\n",
    "    if int(i) % 2 == 0:\n",
    "        e += 1\n",
    "    else: o += 1\n",
    "print(e, o)\n",
    "e = o = 0\n",
    "while a != 0:\n",
    "    b = a % 10\n",
    "    if b % 2 == 0:\n",
    "        e += 1\n",
    "    else: o += 1\n",
    "    a //= 10\n",
    "print(e, o)\n",
    "    \n"
   ]
  },
  {
   "cell_type": "code",
   "execution_count": 18,
   "id": "4b2bed9b-6943-470d-9614-1ee29a16acec",
   "metadata": {},
   "outputs": [
    {
     "name": "stdout",
     "output_type": "stream",
     "text": [
      "не пишите слитно\n"
     ]
    },
    {
     "name": "stdin",
     "output_type": "stream",
     "text": [
      " 5 + 5\n"
     ]
    },
    {
     "name": "stdout",
     "output_type": "stream",
     "text": [
      "10\n"
     ]
    },
    {
     "name": "stdin",
     "output_type": "stream",
     "text": [
      " stop\n"
     ]
    }
   ],
   "source": [
    "print(\"не пишите слитно\")\n",
    "while True:\n",
    "    a = [i for i in input().split()]\n",
    "    if a[0] == 'stop':\n",
    "        break\n",
    "    elif a[1] == '+':\n",
    "        print(int(a[0]) + int(a[2]))\n",
    "    elif a[1] == '-':\n",
    "        print(int(a[0]) - int(a[2]))\n",
    "    elif a[1] == '/':\n",
    "        print(int(a[0]) / int(a[2]))\n",
    "    elif a[1] == '//':\n",
    "        print(int(a[0]) // int(a[2]))\n",
    "    elif a[1] == '*' or a[1] == 'x':\n",
    "        print(int(a[0]) * int(a[2]))\n",
    "    \n",
    "        "
   ]
  },
  {
   "cell_type": "code",
   "execution_count": 20,
   "id": "a062a1e2-180a-40e9-9460-f44f98b0eff6",
   "metadata": {},
   "outputs": [
    {
     "name": "stdin",
     "output_type": "stream",
     "text": [
      " -15 10 6 -3 0\n"
     ]
    },
    {
     "name": "stdout",
     "output_type": "stream",
     "text": [
      "[-1, 1, 1, -1, 0]\n"
     ]
    }
   ],
   "source": [
    "a = [int(i) for i in input().split()]\n",
    "for i in range(len(a)):\n",
    "    if a[i] > 0:\n",
    "        a[i] = 1\n",
    "    elif a[i] < 0:\n",
    "        a[i] = -1\n",
    "print(a)\n"
   ]
  },
  {
   "cell_type": "code",
   "execution_count": 29,
   "id": "672239ca-c576-428f-89a2-dfd7f578c2a2",
   "metadata": {},
   "outputs": [
    {
     "name": "stdin",
     "output_type": "stream",
     "text": [
      "   0 0 2 3 0 3 3 2 2 0 2 0 2 2 0 2 0\n"
     ]
    },
    {
     "name": "stdout",
     "output_type": "stream",
     "text": [
      "0\n"
     ]
    }
   ],
   "source": [
    "\n",
    "def most_f(a):\n",
    "    return max(set(a), key = a.count)\n",
    "\n",
    "a = [int(i) for i in input().split()]\n",
    "print(most_f(a))\n"
   ]
  },
  {
   "cell_type": "code",
   "execution_count": 10,
   "id": "95d64383-d178-4d20-b5c4-2f918b62fcaa",
   "metadata": {},
   "outputs": [
    {
     "name": "stdin",
     "output_type": "stream",
     "text": [
      " 1 2 3 4 5\n"
     ]
    },
    {
     "name": "stdout",
     "output_type": "stream",
     "text": [
      "5\n"
     ]
    }
   ],
   "source": [
    "a = {int(i) for i in input().split()}\n",
    "print(len(a))\n"
   ]
  },
  {
   "cell_type": "code",
   "execution_count": 45,
   "id": "18d8234d-a004-4979-93e0-59d74d98f519",
   "metadata": {},
   "outputs": [
    {
     "name": "stdout",
     "output_type": "stream",
     "text": [
      "1a : 20\n",
      "1б : 22\n",
      "2а : 18\n",
      "2б : 28\n",
      "3а : 15\n",
      "4а : 30\n",
      "192\n",
      "30\n",
      "{'4а': 30, '5а': 30}\n"
     ]
    }
   ],
   "source": [
    "school = {'1a':20,'1б':22,'2а':18,'2б':28,'3а':15,'4а':30,'5а':30,'6б':13,'6а':16}\n",
    "su = 0\n",
    "mx = -1111\n",
    "cl = ''\n",
    "a = dict()\n",
    "for i, j in school.items():\n",
    "    su += j\n",
    "    if mx < j:\n",
    "        mx = j\n",
    "    if i[0] <= '4':\n",
    "        print(i, ':', j)\n",
    "for i, j in school.items():\n",
    "    if mx == j:\n",
    "        a[i] = j\n",
    "print(su)\n",
    "print(mx)\n",
    "print(a)"
   ]
  },
  {
   "cell_type": "code",
   "execution_count": 49,
   "id": "b19a31c9-ff90-428e-aff8-3cd66026d530",
   "metadata": {},
   "outputs": [
    {
     "name": "stdin",
     "output_type": "stream",
     "text": [
      " 1 2 3 4 5\n"
     ]
    },
    {
     "name": "stdout",
     "output_type": "stream",
     "text": [
      "[5, 2, 3, 4, 1]\n"
     ]
    }
   ],
   "source": [
    "a = [int(i) for i in input().split()]    \n",
    "a[a.index(max(a))], a[a.index(min(a))] = a[a.index(min(a))], a[a.index(max(a))]\n",
    "print(a)"
   ]
  },
  {
   "cell_type": "code",
   "execution_count": 9,
   "id": "1b610e22-0d1d-485c-b055-2cce93b3437c",
   "metadata": {},
   "outputs": [
    {
     "name": "stdin",
     "output_type": "stream",
     "text": [
      " 10 3\n",
      " 2 5\n",
      " 3 6\n",
      " 8 10\n"
     ]
    },
    {
     "name": "stdout",
     "output_type": "stream",
     "text": [
      "I.....I...\n"
     ]
    }
   ],
   "source": [
    "n, k = [int(i) for i in input().split()]\n",
    "a = ['I'] * n\n",
    "for i in range(k):\n",
    "    l, r = [int(i) for i in input().split()]\n",
    "    for j in range(l - 1, r):\n",
    "        a[j] = '.'\n",
    "print(''.join(a))"
   ]
  },
  {
   "cell_type": "code",
   "execution_count": 20,
   "id": "54825270-ae40-47be-b7f9-77a7dd187f67",
   "metadata": {},
   "outputs": [
    {
     "name": "stdin",
     "output_type": "stream",
     "text": [
      " 2 2\n",
      " 5 4\n",
      " 2 3\n"
     ]
    },
    {
     "name": "stdout",
     "output_type": "stream",
     "text": [
      "9\n",
      "0\n"
     ]
    }
   ],
   "source": [
    "n, m = [int(i) for i in input().split()]\n",
    "mx = []\n",
    "for i in range(n):\n",
    "    a = [int(i) for i in input().split()]\n",
    "    su = 0\n",
    "    for j in range(m):\n",
    "        su += a[j]\n",
    "    mx.append(su)\n",
    "print(max(mx))\n",
    "print(mx.index(max(mx)))\n",
    "\n"
   ]
  }
 ],
 "metadata": {
  "kernelspec": {
   "display_name": "Python 3 (ipykernel)",
   "language": "python",
   "name": "python3"
  },
  "language_info": {
   "codemirror_mode": {
    "name": "ipython",
    "version": 3
   },
   "file_extension": ".py",
   "mimetype": "text/x-python",
   "name": "python",
   "nbconvert_exporter": "python",
   "pygments_lexer": "ipython3",
   "version": "3.9.13"
  }
 },
 "nbformat": 4,
 "nbformat_minor": 5
}
